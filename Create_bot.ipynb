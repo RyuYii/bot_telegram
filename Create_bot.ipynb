{
 "cells": [
  {
   "attachments": {},
   "cell_type": "markdown",
   "metadata": {},
   "source": [
    "Abre Telegram y busca al bot llamado \"@BotFather\". Envíale un mensaje con el comando \"/newbot\" y sigue las instrucciones para crear un nuevo bot.\n",
    "\n",
    "El BotFather te pedirá que le des un nombre a tu bot. Este nombre será el que aparezca en la lista de chats de Telegram. También te pedirá que le des un nombre de usuario único para tu bot, que debe terminar en \"_bot\". Este nombre de usuario será el que se use para mencionar al bot en los chats de Telegram.\n",
    "\n",
    "Una vez que hayas creado el bot, el BotFather te enviará un mensaje con el token del bot. Este token es una cadena de caracteres larga y única que identifica a tu bot. Guárdalo en un lugar seguro.\n",
    "\n",
    "Ahora que tienes el token de tu bot, necesitas programar su comportamiento. Hay varias formas de hacerlo, pero una de las más populares es usando el lenguaje de programación Python y la biblioteca \"python-telegram-bot\".\n",
    "\n",
    "Para empezar a programar tu bot en Python, primero debes instalar la biblioteca \"python-telegram-bot\". Puedes hacerlo usando el administrador de paquetes \"pip\". Abre una terminal y escribe el siguiente comando:\n",
    "\n",
    "`pip install python-telegram-bot`\n"
   ]
  },
  {
   "cell_type": "code",
   "execution_count": null,
   "metadata": {},
   "outputs": [],
   "source": [
    "TOKEN = '6223210326:AAE2ZdfGjJq4MOaS-NbvNuYN0TkScvAFLZI'\n",
    "\n",
    "import telegram\n",
    "from telegram.ext import Updater, CommandHandler, MessageHandler, Filters\n",
    "\n",
    "# Reemplaza 'TOKEN' por el token que te dio @BotFather\n",
    "bot = telegram.Bot(token=TOKEN)\n",
    "updater = Updater(token=TOKEN, use_context=True)\n",
    "\n",
    "# Manejador de comandos \"/start\"\n",
    "def start(update, context):\n",
    "    context.bot.send_message(chat_id=update.message.chat_id, text=\"¡Hola! Soy un bot de Telegram.\")\n",
    "\n",
    "# Manejador de eventos \"new_chat_members\"\n",
    "def new_chat_members(update, context):\n",
    "    for member in update.message.new_chat_members:\n",
    "        context.bot.send_message(chat_id=update.message.chat_id, text=f\"¡Bienvenido al grupo, {member.first_name}!\")\n",
    "        \n",
    "# Crea un manejador para el evento \"new_chat_members\"\n",
    "new_chat_members_handler = MessageHandler(Filters.status_update.new_chat_members, new_chat_members)\n",
    "updater.dispatcher.add_handler(new_chat_members_handler)\n",
    "\n",
    "# Crea un comando llamado \"/start\"\n",
    "start_handler = CommandHandler('start', start)\n",
    "updater.dispatcher.add_handler(start_handler)\n",
    "\n",
    "def echo(update, context):\n",
    "    text = update.message.text\n",
    "    if 'otaku' in text:\n",
    "        context.bot.send_message(chat_id=update.effective_chat.id, text=\"Has mencionado la palabra clave.\")\n",
    "\n",
    "echo_handler = MessageHandler(Filters.text & (~Filters.command), echo)\n",
    "updater.dispatcher.add_handler(echo_handler)\n",
    "\n",
    "updater.start_polling()"
   ]
  },
  {
   "attachments": {},
   "cell_type": "markdown",
   "metadata": {},
   "source": [
    "Para ejecutar tu script en Heroku, debes seguir los siguientes pasos:\n",
    "\n",
    "Crea una cuenta en Heroku si aún no tienes una.\n",
    "Crea una nueva aplicación en Heroku.\n",
    "Conecta tu aplicación de Heroku con tu repositorio de GitHub o GitLab.\n",
    "Configura tu archivo “requirements.txt” para que incluya todas las dependencias necesarias para ejecutar tu script.\n",
    "Configura tu archivo “Procfile” para que especifique el comando que se debe ejecutar para iniciar tu script.\n",
    "Implementa tu aplicación en Heroku usando Git.\n",
    "Aquí hay un ejemplo de cómo podría verse tu archivo “Procfile”:\n",
    "\n",
    "```\n",
    "web: python app.py\n",
    "```\n",
    "Este archivo especifica que el comando “python app.py” debe ejecutarse cuando se inicie la aplicación.\n",
    "\n",
    "Espero que esto te ayude. ¡Buena suerte! 😊"
   ]
  }
 ],
 "metadata": {
  "kernelspec": {
   "display_name": ".venv",
   "language": "python",
   "name": "python3"
  },
  "language_info": {
   "codemirror_mode": {
    "name": "ipython",
    "version": 3
   },
   "file_extension": ".py",
   "mimetype": "text/x-python",
   "name": "python",
   "nbconvert_exporter": "python",
   "pygments_lexer": "ipython3",
   "version": "3.10.8"
  },
  "orig_nbformat": 4
 },
 "nbformat": 4,
 "nbformat_minor": 2
}
